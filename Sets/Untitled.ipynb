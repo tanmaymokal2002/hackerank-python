{
 "cells": [
  {
   "cell_type": "markdown",
   "id": "49a574ac-7391-43ac-b1b7-4b7d0b79ac50",
   "metadata": {},
   "source": [
    "<h1 style=\"color: #2E86C1; font-size: 36px; font-weight: bold;\">The Captain's Room</h1>"
   ]
  },
  {
   "cell_type": "markdown",
   "id": "1052fe9b-9f7e-4253-b552-90c90b141436",
   "metadata": {},
   "source": [
    "<h3 style=\"color: #117A65; font-size: 28px;\">Approach 1</h2>"
   ]
  },
  {
   "cell_type": "markdown",
   "id": "98f51f0e-909e-477d-b51d-e6f3933d2e92",
   "metadata": {},
   "source": [
    "Basically you have to find the one element which dont have any dups \n",
    "\n",
    "Time Complexity: O(N)\n",
    "Space Complexity: O(N)\n",
    "\n",
    "\n",
    "\n",
    "\n",
    "\n"
   ]
  },
  {
   "cell_type": "code",
   "execution_count": 19,
   "id": "2c02e391-46c2-42e0-9634-95ab9c62d847",
   "metadata": {},
   "outputs": [
    {
     "name": "stdin",
     "output_type": "stream",
     "text": [
      " 5\n",
      " 1 2 3 6 5 4 4 2 5 3 6 1 6 5 3 2 4 1 2 5 1 4 3 6 8 4 3 1 5 6 2 \n"
     ]
    }
   ],
   "source": [
    "k = int(input())\n",
    "nums_lst = list(map(int, input().split()))"
   ]
  },
  {
   "cell_type": "code",
   "execution_count": 42,
   "id": "96af16cd-20c9-4591-b846-0f1ad0368177",
   "metadata": {},
   "outputs": [
    {
     "name": "stdout",
     "output_type": "stream",
     "text": [
      "8\n"
     ]
    }
   ],
   "source": [
    "a = set()\n",
    "b = set()\n",
    "for num in nums_lst:\n",
    "    if num not in a:\n",
    "        a.add(num)\n",
    "        b.add(num)\n",
    "    else:\n",
    "        b.discard(num)\n",
    "ans = a.intersection(b)\n",
    "for item in ans:\n",
    "    print(item)"
   ]
  },
  {
   "cell_type": "markdown",
   "id": "8a6c684b-36f1-478a-83fd-e4851a67785b",
   "metadata": {},
   "source": [
    "<h3 style=\"color: #117A65; font-size: 28px;\">Approach 2</h2>"
   ]
  },
  {
   "cell_type": "markdown",
   "id": "959e7493-6b28-4ee1-8c07-da135bb1c57a",
   "metadata": {},
   "source": []
  },
  {
   "cell_type": "code",
   "execution_count": 101,
   "id": "0cca70a3-577f-4e2b-a7b5-b1c8ad873188",
   "metadata": {},
   "outputs": [
    {
     "name": "stdout",
     "output_type": "stream",
     "text": [
      "8\n"
     ]
    }
   ],
   "source": [
    "room_set = set(nums_lst)\n",
    "sumRoomSet = sum(room_set)\n",
    "sumList = sum(nums_lst)\n",
    "temp = sumRoomSet*k - sumList\n",
    "ans = temp//(k-1)\n",
    "print(ans)"
   ]
  },
  {
   "cell_type": "code",
   "execution_count": null,
   "id": "7555b1b5-22c0-49df-8ffd-9c82c4854208",
   "metadata": {},
   "outputs": [],
   "source": []
  },
  {
   "cell_type": "code",
   "execution_count": null,
   "id": "fd5218cf-0ed1-4635-9653-311964be87d3",
   "metadata": {},
   "outputs": [],
   "source": []
  }
 ],
 "metadata": {
  "kernelspec": {
   "display_name": "Python 3 (ipykernel)",
   "language": "python",
   "name": "python3"
  },
  "language_info": {
   "codemirror_mode": {
    "name": "ipython",
    "version": 3
   },
   "file_extension": ".py",
   "mimetype": "text/x-python",
   "name": "python",
   "nbconvert_exporter": "python",
   "pygments_lexer": "ipython3",
   "version": "3.12.4"
  }
 },
 "nbformat": 4,
 "nbformat_minor": 5
}
