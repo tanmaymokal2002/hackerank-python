{
 "cells": [
  {
   "cell_type": "markdown",
   "id": "49a574ac-7391-43ac-b1b7-4b7d0b79ac50",
   "metadata": {},
   "source": [
    "<h1 style=\"color: #2E86C1; font-size: 36px; font-weight: bold;\">Check Subset</h1>"
   ]
  },
  {
   "cell_type": "markdown",
   "id": "1052fe9b-9f7e-4253-b552-90c90b141436",
   "metadata": {},
   "source": [
    "<h3 style=\"color: #117A65; font-size: 28px;\">Approach 1</h2>"
   ]
  },
  {
   "cell_type": "raw",
   "id": "709d2ac9-87da-4ad5-a64c-60a9db779088",
   "metadata": {},
   "source": [
    "Excluding Input: \n",
    "Time Complexity: 𝑂 ( 𝑛 ) O(n) (worst case). \n",
    "Space Complexity: 𝑂 ( 1 ) O(1).\n",
    "\n",
    "Including Input:\n",
    "Time Complexity: 𝑂 ( 𝑡 × ( 𝑛 + 𝑚 ) ) O(t×(n+m)). \n",
    "Space Complexity: 𝑂 ( 𝑛 + 𝑚 ) O(n+m)."
   ]
  },
  {
   "cell_type": "code",
   "execution_count": 126,
   "id": "2c02e391-46c2-42e0-9634-95ab9c62d847",
   "metadata": {},
   "outputs": [
    {
     "name": "stdin",
     "output_type": "stream",
     "text": [
      " 3\n",
      " 5\n",
      " 1 2 3 5 6\n",
      " 9\n",
      " 9 8 5 6 3 2 1 4 7\n"
     ]
    }
   ],
   "source": [
    "t = int(input())\n",
    "for i in range(t):\n",
    "    n = int(input())\n",
    "    A = set(map(int, input().split()))\n",
    "    m = int(input())\n",
    "    B = set(map(int, input().split()))\n",
    "    x = True\n",
    "    for i in A:\n",
    "        if i not in B:\n",
    "            x = False\n",
    "            break\n",
    "        else:\n",
    "            x = True\n",
    "    print(x)"
   ]
  },
  {
   "cell_type": "code",
   "execution_count": 124,
   "id": "96af16cd-20c9-4591-b846-0f1ad0368177",
   "metadata": {},
   "outputs": [
    {
     "name": "stdout",
     "output_type": "stream",
     "text": [
      "True\n",
      "[1, 2, 3, 4, 5, 6, 7, 8, 9]\n"
     ]
    }
   ],
   "source": [
    "    x = True\n",
    "    for i in A:\n",
    "        if i not in B:\n",
    "            x = False\n",
    "            break\n",
    "        else:\n",
    "            x = True\n",
    "    print(x)\n",
    "\n",
    "print(sorted(B))"
   ]
  },
  {
   "cell_type": "markdown",
   "id": "8a6c684b-36f1-478a-83fd-e4851a67785b",
   "metadata": {},
   "source": [
    "<h3 style=\"color: #117A65; font-size: 28px;\">Approach 2</h2>"
   ]
  },
  {
   "cell_type": "raw",
   "id": "80e4fce5-ca13-4165-8b49-f4849a030470",
   "metadata": {},
   "source": [
    "Time Complexity: 𝑂 ( ∣ 𝐴 ∣ ) O(∣A∣), where ∣ 𝐴 ∣ ∣A∣ is the size of the set 𝐴 A. \n",
    "Space Complexity: 𝑂 ( 1 ) O(1), as no additional memory is allocated."
   ]
  },
  {
   "cell_type": "code",
   "execution_count": null,
   "id": "0cca70a3-577f-4e2b-a7b5-b1c8ad873188",
   "metadata": {},
   "outputs": [],
   "source": [
    "t = int(input())\n",
    "for i in range(t):\n",
    "    n = int(input())\n",
    "    A = set(map(int, input().split()))\n",
    "    m = int(input())\n",
    "    B = set(map(int, input().split()))\n",
    "\n",
    "    print(A.issubset(B))"
   ]
  },
  {
   "cell_type": "markdown",
   "id": "cdfa028d-408e-4a81-a057-513bb691cb13",
   "metadata": {},
   "source": [
    "<h3 style=\"color: #117A65; font-size: 28px;\">Approach 3</h2>"
   ]
  },
  {
   "cell_type": "raw",
   "id": "b9445b3a-2266-4d14-8479-a99f22709033",
   "metadata": {},
   "source": [
    "Time Complexity (excluding input handling): O(t \\times (n_A + n_B + min(n_A, n_B))) \n",
    "Space Complexity (excluding input handling): O(n_A + n_B)"
   ]
  },
  {
   "cell_type": "code",
   "execution_count": null,
   "id": "7555b1b5-22c0-49df-8ffd-9c82c4854208",
   "metadata": {},
   "outputs": [],
   "source": [
    "t = int(input())\n",
    "for i in range(t):\n",
    "    n = int(input())\n",
    "    A = set(map(int, input().split()))\n",
    "    m = int(input())\n",
    "    B = set(map(int, input().split()))\n",
    "\n",
    "    print(A<=B)\n",
    "\n",
    "\n"
   ]
  },
  {
   "cell_type": "code",
   "execution_count": null,
   "id": "fd5218cf-0ed1-4635-9653-311964be87d3",
   "metadata": {},
   "outputs": [],
   "source": []
  }
 ],
 "metadata": {
  "kernelspec": {
   "display_name": "Python 3 (ipykernel)",
   "language": "python",
   "name": "python3"
  },
  "language_info": {
   "codemirror_mode": {
    "name": "ipython",
    "version": 3
   },
   "file_extension": ".py",
   "mimetype": "text/x-python",
   "name": "python",
   "nbconvert_exporter": "python",
   "pygments_lexer": "ipython3",
   "version": "3.12.4"
  }
 },
 "nbformat": 4,
 "nbformat_minor": 5
}
